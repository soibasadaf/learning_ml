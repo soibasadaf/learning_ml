{
 "cells": [
  {
   "cell_type": "code",
   "execution_count": 2,
   "id": "8f56c435-96d8-407f-ae3e-71c4d532db6e",
   "metadata": {},
   "outputs": [],
   "source": [
    "import numpy as np\n",
    "import pandas as pd\n",
    "import matplotlib.pyplot as plt"
   ]
  },
  {
   "cell_type": "code",
   "execution_count": 4,
   "id": "6918b1c7-1872-49ec-96e3-872fa2e008ff",
   "metadata": {},
   "outputs": [],
   "source": [
    "from sklearn.model_selection import train_test_split\n",
    "from sklearn.impute import SimpleImputer\n",
    "from sklearn.compose import ColumnTransformer"
   ]
  },
  {
   "cell_type": "code",
   "execution_count": 5,
   "id": "f131bf35-385b-487e-bdf1-741ab4e33def",
   "metadata": {},
   "outputs": [
    {
     "data": {
      "text/html": [
       "<div>\n",
       "<style scoped>\n",
       "    .dataframe tbody tr th:only-of-type {\n",
       "        vertical-align: middle;\n",
       "    }\n",
       "\n",
       "    .dataframe tbody tr th {\n",
       "        vertical-align: top;\n",
       "    }\n",
       "\n",
       "    .dataframe thead th {\n",
       "        text-align: right;\n",
       "    }\n",
       "</style>\n",
       "<table border=\"1\" class=\"dataframe\">\n",
       "  <thead>\n",
       "    <tr style=\"text-align: right;\">\n",
       "      <th></th>\n",
       "      <th>Age</th>\n",
       "      <th>Fare</th>\n",
       "      <th>Family</th>\n",
       "      <th>Survived</th>\n",
       "    </tr>\n",
       "  </thead>\n",
       "  <tbody>\n",
       "    <tr>\n",
       "      <th>0</th>\n",
       "      <td>22.0</td>\n",
       "      <td>7.2500</td>\n",
       "      <td>1</td>\n",
       "      <td>0</td>\n",
       "    </tr>\n",
       "    <tr>\n",
       "      <th>1</th>\n",
       "      <td>38.0</td>\n",
       "      <td>71.2833</td>\n",
       "      <td>1</td>\n",
       "      <td>1</td>\n",
       "    </tr>\n",
       "    <tr>\n",
       "      <th>2</th>\n",
       "      <td>26.0</td>\n",
       "      <td>7.9250</td>\n",
       "      <td>0</td>\n",
       "      <td>1</td>\n",
       "    </tr>\n",
       "    <tr>\n",
       "      <th>3</th>\n",
       "      <td>35.0</td>\n",
       "      <td>53.1000</td>\n",
       "      <td>1</td>\n",
       "      <td>1</td>\n",
       "    </tr>\n",
       "    <tr>\n",
       "      <th>4</th>\n",
       "      <td>35.0</td>\n",
       "      <td>8.0500</td>\n",
       "      <td>0</td>\n",
       "      <td>0</td>\n",
       "    </tr>\n",
       "  </tbody>\n",
       "</table>\n",
       "</div>"
      ],
      "text/plain": [
       "    Age     Fare  Family  Survived\n",
       "0  22.0   7.2500       1         0\n",
       "1  38.0  71.2833       1         1\n",
       "2  26.0   7.9250       0         1\n",
       "3  35.0  53.1000       1         1\n",
       "4  35.0   8.0500       0         0"
      ]
     },
     "execution_count": 5,
     "metadata": {},
     "output_type": "execute_result"
    }
   ],
   "source": [
    "df=pd.read_csv('titanic_toy.csv')\n",
    "df.head(5)"
   ]
  },
  {
   "cell_type": "code",
   "execution_count": 7,
   "id": "7ac99637-09e3-4da2-a1e3-9027978218b0",
   "metadata": {},
   "outputs": [
    {
     "data": {
      "text/plain": [
       "Age         177\n",
       "Fare         45\n",
       "Family        0\n",
       "Survived      0\n",
       "dtype: int64"
      ]
     },
     "execution_count": 7,
     "metadata": {},
     "output_type": "execute_result"
    }
   ],
   "source": [
    "df.isnull().sum()"
   ]
  },
  {
   "cell_type": "code",
   "execution_count": 9,
   "id": "bdb9de7b-f704-4408-a38c-7b7c731f0854",
   "metadata": {},
   "outputs": [
    {
     "data": {
      "text/plain": [
       "Age         19.865320\n",
       "Fare         5.050505\n",
       "Family       0.000000\n",
       "Survived     0.000000\n",
       "dtype: float64"
      ]
     },
     "execution_count": 9,
     "metadata": {},
     "output_type": "execute_result"
    }
   ],
   "source": [
    "df.isnull().mean()*100"
   ]
  },
  {
   "cell_type": "code",
   "execution_count": 10,
   "id": "28864b51-aee8-40ef-b8a8-f6320362b017",
   "metadata": {},
   "outputs": [],
   "source": [
    "X=df.drop(columns=['Survived'])\n",
    "y=df['Survived']\n",
    "X_train,X_test,y_train,y_test=train_test_split(X,y,test_size=0.3,random_state=42)"
   ]
  },
  {
   "cell_type": "code",
   "execution_count": 12,
   "id": "6e847a72-ca0d-4dd4-8a27-a5b8f7e89900",
   "metadata": {},
   "outputs": [
    {
     "data": {
      "text/html": [
       "<div>\n",
       "<style scoped>\n",
       "    .dataframe tbody tr th:only-of-type {\n",
       "        vertical-align: middle;\n",
       "    }\n",
       "\n",
       "    .dataframe tbody tr th {\n",
       "        vertical-align: top;\n",
       "    }\n",
       "\n",
       "    .dataframe thead th {\n",
       "        text-align: right;\n",
       "    }\n",
       "</style>\n",
       "<table border=\"1\" class=\"dataframe\">\n",
       "  <thead>\n",
       "    <tr style=\"text-align: right;\">\n",
       "      <th></th>\n",
       "      <th>Age</th>\n",
       "      <th>Fare</th>\n",
       "      <th>Family</th>\n",
       "    </tr>\n",
       "  </thead>\n",
       "  <tbody>\n",
       "    <tr>\n",
       "      <th>445</th>\n",
       "      <td>4.0</td>\n",
       "      <td>81.8583</td>\n",
       "      <td>2</td>\n",
       "    </tr>\n",
       "    <tr>\n",
       "      <th>650</th>\n",
       "      <td>NaN</td>\n",
       "      <td>7.8958</td>\n",
       "      <td>0</td>\n",
       "    </tr>\n",
       "    <tr>\n",
       "      <th>172</th>\n",
       "      <td>1.0</td>\n",
       "      <td>11.1333</td>\n",
       "      <td>2</td>\n",
       "    </tr>\n",
       "    <tr>\n",
       "      <th>450</th>\n",
       "      <td>36.0</td>\n",
       "      <td>27.7500</td>\n",
       "      <td>3</td>\n",
       "    </tr>\n",
       "    <tr>\n",
       "      <th>314</th>\n",
       "      <td>43.0</td>\n",
       "      <td>26.2500</td>\n",
       "      <td>2</td>\n",
       "    </tr>\n",
       "  </tbody>\n",
       "</table>\n",
       "</div>"
      ],
      "text/plain": [
       "      Age     Fare  Family\n",
       "445   4.0  81.8583       2\n",
       "650   NaN   7.8958       0\n",
       "172   1.0  11.1333       2\n",
       "450  36.0  27.7500       3\n",
       "314  43.0  26.2500       2"
      ]
     },
     "execution_count": 12,
     "metadata": {},
     "output_type": "execute_result"
    }
   ],
   "source": [
    "X_train.head(5)"
   ]
  },
  {
   "cell_type": "code",
   "execution_count": 13,
   "id": "dc5311d8-aa39-457c-aec2-72384d8251d5",
   "metadata": {},
   "outputs": [
    {
     "data": {
      "text/plain": [
       "445    1\n",
       "650    0\n",
       "172    1\n",
       "450    0\n",
       "314    0\n",
       "Name: Survived, dtype: int64"
      ]
     },
     "execution_count": 13,
     "metadata": {},
     "output_type": "execute_result"
    }
   ],
   "source": [
    "y_train.head(5)"
   ]
  },
  {
   "cell_type": "code",
   "execution_count": 14,
   "id": "aa1382dc-c530-492c-9b84-15d487f10412",
   "metadata": {},
   "outputs": [
    {
     "data": {
      "text/plain": [
       "((623, 3), (268, 3))"
      ]
     },
     "execution_count": 14,
     "metadata": {},
     "output_type": "execute_result"
    }
   ],
   "source": [
    "X_train.shape , X_test.shape"
   ]
  },
  {
   "cell_type": "code",
   "execution_count": 15,
   "id": "67e4adef-04ec-4e0b-8a5a-1b8f3aaeeebf",
   "metadata": {},
   "outputs": [
    {
     "data": {
      "text/plain": [
       "((623,), (268,))"
      ]
     },
     "execution_count": 15,
     "metadata": {},
     "output_type": "execute_result"
    }
   ],
   "source": [
    "y_train.shape, y_test.shape"
   ]
  },
  {
   "cell_type": "code",
   "execution_count": 17,
   "id": "dd09c646-c5ce-431f-b96f-8d0453c9eaa3",
   "metadata": {},
   "outputs": [
    {
     "data": {
      "text/plain": [
       "Age       19.903692\n",
       "Fare       4.815409\n",
       "Family     0.000000\n",
       "dtype: float64"
      ]
     },
     "execution_count": 17,
     "metadata": {},
     "output_type": "execute_result"
    }
   ],
   "source": [
    "X_train.isnull().mean()*100"
   ]
  },
  {
   "cell_type": "code",
   "execution_count": 21,
   "id": "ecef2015-1044-46ba-9a77-a78ce8b1fd89",
   "metadata": {},
   "outputs": [],
   "source": [
    "mean_age=X_train['Age'].mean()\n",
    "median_age=X_train['Age'].median()\n",
    "\n",
    "mean_fare=X_train['Fare'].mean()\n",
    "median_fare=X_train['Fare'].median()"
   ]
  },
  {
   "cell_type": "code",
   "execution_count": 22,
   "id": "2edcdd7e-f038-4a6e-b2ed-da3cbef84f66",
   "metadata": {},
   "outputs": [],
   "source": [
    "X_train['mean_age']=X_train['Age'].fillna(mean_age)\n",
    "X_train['median_age']=X_train['Age'].fillna(median_age)\n",
    "\n",
    "X_train['mean_fare']=X_train['Fare'].fillna(mean_fare)\n",
    "X_train['median_fare']=X_train['Fare'].fillna(median_fare)"
   ]
  },
  {
   "cell_type": "code",
   "execution_count": 23,
   "id": "8f6be0df-142e-43e9-b93b-589c9ab61de3",
   "metadata": {},
   "outputs": [
    {
     "data": {
      "text/html": [
       "<div>\n",
       "<style scoped>\n",
       "    .dataframe tbody tr th:only-of-type {\n",
       "        vertical-align: middle;\n",
       "    }\n",
       "\n",
       "    .dataframe tbody tr th {\n",
       "        vertical-align: top;\n",
       "    }\n",
       "\n",
       "    .dataframe thead th {\n",
       "        text-align: right;\n",
       "    }\n",
       "</style>\n",
       "<table border=\"1\" class=\"dataframe\">\n",
       "  <thead>\n",
       "    <tr style=\"text-align: right;\">\n",
       "      <th></th>\n",
       "      <th>Age</th>\n",
       "      <th>Fare</th>\n",
       "      <th>Family</th>\n",
       "      <th>mean_age</th>\n",
       "      <th>median_age</th>\n",
       "      <th>mean_fare</th>\n",
       "      <th>median_fare</th>\n",
       "    </tr>\n",
       "  </thead>\n",
       "  <tbody>\n",
       "    <tr>\n",
       "      <th>445</th>\n",
       "      <td>4.0</td>\n",
       "      <td>81.8583</td>\n",
       "      <td>2</td>\n",
       "      <td>4.000000</td>\n",
       "      <td>4.0</td>\n",
       "      <td>81.8583</td>\n",
       "      <td>81.8583</td>\n",
       "    </tr>\n",
       "    <tr>\n",
       "      <th>650</th>\n",
       "      <td>NaN</td>\n",
       "      <td>7.8958</td>\n",
       "      <td>0</td>\n",
       "      <td>29.256353</td>\n",
       "      <td>28.0</td>\n",
       "      <td>7.8958</td>\n",
       "      <td>7.8958</td>\n",
       "    </tr>\n",
       "    <tr>\n",
       "      <th>172</th>\n",
       "      <td>1.0</td>\n",
       "      <td>11.1333</td>\n",
       "      <td>2</td>\n",
       "      <td>1.000000</td>\n",
       "      <td>1.0</td>\n",
       "      <td>11.1333</td>\n",
       "      <td>11.1333</td>\n",
       "    </tr>\n",
       "    <tr>\n",
       "      <th>450</th>\n",
       "      <td>36.0</td>\n",
       "      <td>27.7500</td>\n",
       "      <td>3</td>\n",
       "      <td>36.000000</td>\n",
       "      <td>36.0</td>\n",
       "      <td>27.7500</td>\n",
       "      <td>27.7500</td>\n",
       "    </tr>\n",
       "    <tr>\n",
       "      <th>314</th>\n",
       "      <td>43.0</td>\n",
       "      <td>26.2500</td>\n",
       "      <td>2</td>\n",
       "      <td>43.000000</td>\n",
       "      <td>43.0</td>\n",
       "      <td>26.2500</td>\n",
       "      <td>26.2500</td>\n",
       "    </tr>\n",
       "    <tr>\n",
       "      <th>332</th>\n",
       "      <td>38.0</td>\n",
       "      <td>153.4625</td>\n",
       "      <td>1</td>\n",
       "      <td>38.000000</td>\n",
       "      <td>38.0</td>\n",
       "      <td>153.4625</td>\n",
       "      <td>153.4625</td>\n",
       "    </tr>\n",
       "    <tr>\n",
       "      <th>801</th>\n",
       "      <td>31.0</td>\n",
       "      <td>26.2500</td>\n",
       "      <td>2</td>\n",
       "      <td>31.000000</td>\n",
       "      <td>31.0</td>\n",
       "      <td>26.2500</td>\n",
       "      <td>26.2500</td>\n",
       "    </tr>\n",
       "    <tr>\n",
       "      <th>90</th>\n",
       "      <td>29.0</td>\n",
       "      <td>8.0500</td>\n",
       "      <td>0</td>\n",
       "      <td>29.000000</td>\n",
       "      <td>29.0</td>\n",
       "      <td>8.0500</td>\n",
       "      <td>8.0500</td>\n",
       "    </tr>\n",
       "  </tbody>\n",
       "</table>\n",
       "</div>"
      ],
      "text/plain": [
       "      Age      Fare  Family   mean_age  median_age  mean_fare  median_fare\n",
       "445   4.0   81.8583       2   4.000000         4.0    81.8583      81.8583\n",
       "650   NaN    7.8958       0  29.256353        28.0     7.8958       7.8958\n",
       "172   1.0   11.1333       2   1.000000         1.0    11.1333      11.1333\n",
       "450  36.0   27.7500       3  36.000000        36.0    27.7500      27.7500\n",
       "314  43.0   26.2500       2  43.000000        43.0    26.2500      26.2500\n",
       "332  38.0  153.4625       1  38.000000        38.0   153.4625     153.4625\n",
       "801  31.0   26.2500       2  31.000000        31.0    26.2500      26.2500\n",
       "90   29.0    8.0500       0  29.000000        29.0     8.0500       8.0500"
      ]
     },
     "execution_count": 23,
     "metadata": {},
     "output_type": "execute_result"
    }
   ],
   "source": [
    "X_train.head(8)"
   ]
  },
  {
   "cell_type": "code",
   "execution_count": 28,
   "id": "97ea55c0-df49-4f3c-aa41-53b96bf0eb66",
   "metadata": {},
   "outputs": [
    {
     "name": "stdout",
     "output_type": "stream",
     "text": [
      "original age var variance 211.95188064643307\n",
      "original mean age var variance 169.69780797736954\n",
      "original median age var variance 169.94984651902135\n",
      "original fare var variance 2666.9296723129796\n",
      "original mean fare var variance 2538.2996238091378\n",
      "original median fare var variance 2552.1099348908224\n"
     ]
    }
   ],
   "source": [
    "# age and fare variables variance\n",
    "print('original age var variance', X_train['Age'].var())\n",
    "print('original mean age var variance', X_train['mean_age'].var())\n",
    "print('original median age var variance', X_train['median_age'].var())\n",
    "\n",
    "print('original fare var variance', X_train['Fare'].var())\n",
    "print('original mean fare var variance', X_train['mean_fare'].var())\n",
    "print('original median fare var variance', X_train['median_fare'].var())"
   ]
  },
  {
   "cell_type": "code",
   "execution_count": 29,
   "id": "941749ec-6dfa-4c87-b67d-399d212ce34b",
   "metadata": {},
   "outputs": [],
   "source": [
    "# ~20% missing data variance decreased from 211 to 169 that's fair\n",
    "# for 5% missing data in fare column variance decreased from 2666 to 2538(mean), and meadian(2552)"
   ]
  },
  {
   "cell_type": "code",
   "execution_count": 31,
   "id": "77d0670f-cf05-49a3-9ccf-3782f30869c9",
   "metadata": {},
   "outputs": [
    {
     "data": {
      "text/plain": [
       "<matplotlib.legend.Legend at 0x188b9c277a0>"
      ]
     },
     "execution_count": 31,
     "metadata": {},
     "output_type": "execute_result"
    },
    {
     "data": {
      "image/png": "[encoded data removed]",
      "text/plain": [
       "<Figure size 640x480 with 1 Axes>"
      ]
     },
     "metadata": {},
     "output_type": "display_data"
    }
   ],
   "source": [
    "#age\n",
    "\n",
    "fig = plt.figure()\n",
    "ax = fig.add_subplot(111)\n",
    "\n",
    "# original variable distribution\n",
    "X_train['Age'].plot(kind='kde', ax=ax)\n",
    "\n",
    "# variable imputed with the median\n",
    "X_train['median_age'].plot(kind='kde', ax=ax, color='red')\n",
    "\n",
    "# variable imputed with the mean\n",
    "X_train['mean_age'].plot(kind='kde', ax=ax, color='green')\n",
    "\n",
    "# add legends\n",
    "lines, labels = ax.get_legend_handles_labels()\n",
    "ax.legend(lines, labels, loc='best')"
   ]
  },
  {
   "cell_type": "code",
   "execution_count": 32,
   "id": "fc947f6c-044b-4631-b4b8-cd52fee726a9",
   "metadata": {},
   "outputs": [],
   "source": [
    "#applying mean median imputation (20% data missing) will increase the height at where mean of the data lies, the graph is totally valid."
   ]
  },
  {
   "cell_type": "code",
   "execution_count": 34,
   "id": "438bc811-d53a-4199-acf7-1c0187408461",
   "metadata": {},
   "outputs": [
    {
     "data": {
      "text/plain": [
       "<matplotlib.legend.Legend at 0x188bc76c3b0>"
      ]
     },
     "execution_count": 34,
     "metadata": {},
     "output_type": "execute_result"
    },
    {
     "data": {
      "image/png": "[encoded data removed]",
      "text/plain": [
       "<Figure size 640x480 with 1 Axes>"
      ]
     },
     "metadata": {},
     "output_type": "display_data"
    }
   ],
   "source": [
    "#for fare where only 5% of data is missing, there should be a small change subtle change to keep things balanced\n",
    "fig = plt.figure()\n",
    "ax = fig.add_subplot(111)\n",
    "\n",
    "# original variable distribution\n",
    "X_train['Fare'].plot(kind='kde', ax=ax)\n",
    "\n",
    "# variable imputed with the median\n",
    "X_train['median_fare'].plot(kind='kde', ax=ax, color='red')\n",
    "\n",
    "# variable imputed with the mean\n",
    "X_train['mean_fare'].plot(kind='kde', ax=ax, color='green')\n",
    "\n",
    "# add legends\n",
    "lines, labels = ax.get_legend_handles_labels()\n",
    "ax.legend(lines, labels, loc='best')"
   ]
  },
  {
   "cell_type": "code",
   "execution_count": 35,
   "id": "57d5adc2-c58a-4806-98b1-40543df8944b",
   "metadata": {},
   "outputs": [
    {
     "data": {
      "text/html": [
       "<div>\n",
       "<style scoped>\n",
       "    .dataframe tbody tr th:only-of-type {\n",
       "        vertical-align: middle;\n",
       "    }\n",
       "\n",
       "    .dataframe tbody tr th {\n",
       "        vertical-align: top;\n",
       "    }\n",
       "\n",
       "    .dataframe thead th {\n",
       "        text-align: right;\n",
       "    }\n",
       "</style>\n",
       "<table border=\"1\" class=\"dataframe\">\n",
       "  <thead>\n",
       "    <tr style=\"text-align: right;\">\n",
       "      <th></th>\n",
       "      <th>Age</th>\n",
       "      <th>Fare</th>\n",
       "      <th>Family</th>\n",
       "      <th>mean_age</th>\n",
       "      <th>median_age</th>\n",
       "      <th>mean_fare</th>\n",
       "      <th>median_fare</th>\n",
       "    </tr>\n",
       "  </thead>\n",
       "  <tbody>\n",
       "    <tr>\n",
       "      <th>Age</th>\n",
       "      <td>211.951881</td>\n",
       "      <td>71.822073</td>\n",
       "      <td>-6.932603</td>\n",
       "      <td>211.951881</td>\n",
       "      <td>211.951881</td>\n",
       "      <td>67.757268</td>\n",
       "      <td>65.775061</td>\n",
       "    </tr>\n",
       "    <tr>\n",
       "      <th>Fare</th>\n",
       "      <td>71.822073</td>\n",
       "      <td>2666.929672</td>\n",
       "      <td>18.612474</td>\n",
       "      <td>56.998513</td>\n",
       "      <td>59.765747</td>\n",
       "      <td>2666.929672</td>\n",
       "      <td>2666.929672</td>\n",
       "    </tr>\n",
       "    <tr>\n",
       "      <th>Family</th>\n",
       "      <td>-6.932603</td>\n",
       "      <td>18.612474</td>\n",
       "      <td>2.997027</td>\n",
       "      <td>-5.550541</td>\n",
       "      <td>-5.533529</td>\n",
       "      <td>17.714766</td>\n",
       "      <td>17.767537</td>\n",
       "    </tr>\n",
       "    <tr>\n",
       "      <th>mean_age</th>\n",
       "      <td>211.951881</td>\n",
       "      <td>56.998513</td>\n",
       "      <td>-5.550541</td>\n",
       "      <td>169.697808</td>\n",
       "      <td>169.697808</td>\n",
       "      <td>54.249388</td>\n",
       "      <td>52.662348</td>\n",
       "    </tr>\n",
       "    <tr>\n",
       "      <th>median_age</th>\n",
       "      <td>211.951881</td>\n",
       "      <td>59.765747</td>\n",
       "      <td>-5.533529</td>\n",
       "      <td>169.697808</td>\n",
       "      <td>169.949847</td>\n",
       "      <td>56.883154</td>\n",
       "      <td>55.227061</td>\n",
       "    </tr>\n",
       "    <tr>\n",
       "      <th>mean_fare</th>\n",
       "      <td>67.757268</td>\n",
       "      <td>2666.929672</td>\n",
       "      <td>17.714766</td>\n",
       "      <td>54.249388</td>\n",
       "      <td>56.883154</td>\n",
       "      <td>2538.299624</td>\n",
       "      <td>2538.299624</td>\n",
       "    </tr>\n",
       "    <tr>\n",
       "      <th>median_fare</th>\n",
       "      <td>65.775061</td>\n",
       "      <td>2666.929672</td>\n",
       "      <td>17.767537</td>\n",
       "      <td>52.662348</td>\n",
       "      <td>55.227061</td>\n",
       "      <td>2538.299624</td>\n",
       "      <td>2552.109935</td>\n",
       "    </tr>\n",
       "  </tbody>\n",
       "</table>\n",
       "</div>"
      ],
      "text/plain": [
       "                    Age         Fare     Family    mean_age  median_age  \\\n",
       "Age          211.951881    71.822073  -6.932603  211.951881  211.951881   \n",
       "Fare          71.822073  2666.929672  18.612474   56.998513   59.765747   \n",
       "Family        -6.932603    18.612474   2.997027   -5.550541   -5.533529   \n",
       "mean_age     211.951881    56.998513  -5.550541  169.697808  169.697808   \n",
       "median_age   211.951881    59.765747  -5.533529  169.697808  169.949847   \n",
       "mean_fare     67.757268  2666.929672  17.714766   54.249388   56.883154   \n",
       "median_fare   65.775061  2666.929672  17.767537   52.662348   55.227061   \n",
       "\n",
       "               mean_fare  median_fare  \n",
       "Age            67.757268    65.775061  \n",
       "Fare         2666.929672  2666.929672  \n",
       "Family         17.714766    17.767537  \n",
       "mean_age       54.249388    52.662348  \n",
       "median_age     56.883154    55.227061  \n",
       "mean_fare    2538.299624  2538.299624  \n",
       "median_fare  2538.299624  2552.109935  "
      ]
     },
     "execution_count": 35,
     "metadata": {},
     "output_type": "execute_result"
    }
   ],
   "source": [
    "#covariance and correleation\n",
    "X_train.cov()"
   ]
  },
  {
   "cell_type": "code",
   "execution_count": 36,
   "id": "f7e66d04-89dd-451b-91fd-65cc885735c5",
   "metadata": {},
   "outputs": [
    {
     "data": {
      "text/html": [
       "<div>\n",
       "<style scoped>\n",
       "    .dataframe tbody tr th:only-of-type {\n",
       "        vertical-align: middle;\n",
       "    }\n",
       "\n",
       "    .dataframe tbody tr th {\n",
       "        vertical-align: top;\n",
       "    }\n",
       "\n",
       "    .dataframe thead th {\n",
       "        text-align: right;\n",
       "    }\n",
       "</style>\n",
       "<table border=\"1\" class=\"dataframe\">\n",
       "  <thead>\n",
       "    <tr style=\"text-align: right;\">\n",
       "      <th></th>\n",
       "      <th>Age</th>\n",
       "      <th>Fare</th>\n",
       "      <th>Family</th>\n",
       "      <th>mean_age</th>\n",
       "      <th>median_age</th>\n",
       "      <th>mean_fare</th>\n",
       "      <th>median_fare</th>\n",
       "    </tr>\n",
       "  </thead>\n",
       "  <tbody>\n",
       "    <tr>\n",
       "      <th>Age</th>\n",
       "      <td>1.000000</td>\n",
       "      <td>0.088197</td>\n",
       "      <td>-0.310167</td>\n",
       "      <td>1.000000</td>\n",
       "      <td>1.000000</td>\n",
       "      <td>0.085804</td>\n",
       "      <td>0.083017</td>\n",
       "    </tr>\n",
       "    <tr>\n",
       "      <th>Fare</th>\n",
       "      <td>0.088197</td>\n",
       "      <td>1.000000</td>\n",
       "      <td>0.205140</td>\n",
       "      <td>0.084564</td>\n",
       "      <td>0.088616</td>\n",
       "      <td>1.000000</td>\n",
       "      <td>1.000000</td>\n",
       "    </tr>\n",
       "    <tr>\n",
       "      <th>Family</th>\n",
       "      <td>-0.310167</td>\n",
       "      <td>0.205140</td>\n",
       "      <td>1.000000</td>\n",
       "      <td>-0.246123</td>\n",
       "      <td>-0.245186</td>\n",
       "      <td>0.203104</td>\n",
       "      <td>0.203157</td>\n",
       "    </tr>\n",
       "    <tr>\n",
       "      <th>mean_age</th>\n",
       "      <td>1.000000</td>\n",
       "      <td>0.084564</td>\n",
       "      <td>-0.246123</td>\n",
       "      <td>1.000000</td>\n",
       "      <td>0.999258</td>\n",
       "      <td>0.082658</td>\n",
       "      <td>0.080023</td>\n",
       "    </tr>\n",
       "    <tr>\n",
       "      <th>median_age</th>\n",
       "      <td>1.000000</td>\n",
       "      <td>0.088616</td>\n",
       "      <td>-0.245186</td>\n",
       "      <td>0.999258</td>\n",
       "      <td>1.000000</td>\n",
       "      <td>0.086607</td>\n",
       "      <td>0.083857</td>\n",
       "    </tr>\n",
       "    <tr>\n",
       "      <th>mean_fare</th>\n",
       "      <td>0.085804</td>\n",
       "      <td>1.000000</td>\n",
       "      <td>0.203104</td>\n",
       "      <td>0.082658</td>\n",
       "      <td>0.086607</td>\n",
       "      <td>1.000000</td>\n",
       "      <td>0.997291</td>\n",
       "    </tr>\n",
       "    <tr>\n",
       "      <th>median_fare</th>\n",
       "      <td>0.083017</td>\n",
       "      <td>1.000000</td>\n",
       "      <td>0.203157</td>\n",
       "      <td>0.080023</td>\n",
       "      <td>0.083857</td>\n",
       "      <td>0.997291</td>\n",
       "      <td>1.000000</td>\n",
       "    </tr>\n",
       "  </tbody>\n",
       "</table>\n",
       "</div>"
      ],
      "text/plain": [
       "                  Age      Fare    Family  mean_age  median_age  mean_fare  \\\n",
       "Age          1.000000  0.088197 -0.310167  1.000000    1.000000   0.085804   \n",
       "Fare         0.088197  1.000000  0.205140  0.084564    0.088616   1.000000   \n",
       "Family      -0.310167  0.205140  1.000000 -0.246123   -0.245186   0.203104   \n",
       "mean_age     1.000000  0.084564 -0.246123  1.000000    0.999258   0.082658   \n",
       "median_age   1.000000  0.088616 -0.245186  0.999258    1.000000   0.086607   \n",
       "mean_fare    0.085804  1.000000  0.203104  0.082658    0.086607   1.000000   \n",
       "median_fare  0.083017  1.000000  0.203157  0.080023    0.083857   0.997291   \n",
       "\n",
       "             median_fare  \n",
       "Age             0.083017  \n",
       "Fare            1.000000  \n",
       "Family          0.203157  \n",
       "mean_age        0.080023  \n",
       "median_age      0.083857  \n",
       "mean_fare       0.997291  \n",
       "median_fare     1.000000  "
      ]
     },
     "execution_count": 36,
     "metadata": {},
     "output_type": "execute_result"
    }
   ],
   "source": [
    "X_train.corr()"
   ]
  },
  {
   "cell_type": "code",
   "execution_count": 38,
   "id": "4f33cda7-958b-49de-a079-2b0fab289e25",
   "metadata": {},
   "outputs": [
    {
     "data": {
      "text/plain": [
       "<Axes: >"
      ]
     },
     "execution_count": 38,
     "metadata": {},
     "output_type": "execute_result"
    },
    {
     "data": {
      "image/png": "[encoded data removed]",
      "text/plain": [
       "<Figure size 640x480 with 1 Axes>"
      ]
     },
     "metadata": {},
     "output_type": "display_data"
    }
   ],
   "source": [
    "#outliers\n",
    "X_train[['Age', 'mean_age', 'median_age']].boxplot()"
   ]
  },
  {
   "cell_type": "code",
   "execution_count": 39,
   "id": "88789850-0032-415d-8f35-234cfd987f44",
   "metadata": {},
   "outputs": [],
   "source": [
    "#interquantile range shrinked due to mean-median imputation and value which were at extremes are conveyed as outliers "
   ]
  },
  {
   "cell_type": "code",
   "execution_count": 40,
   "id": "db78081c-07b5-4d68-9e75-1783eafb5fb9",
   "metadata": {},
   "outputs": [
    {
     "data": {
      "text/plain": [
       "<Axes: >"
      ]
     },
     "execution_count": 40,
     "metadata": {},
     "output_type": "execute_result"
    },
    {
     "data": {
      "image/png": "[encoded data removed]",
      "text/plain": [
       "<Figure size 640x480 with 1 Axes>"
      ]
     },
     "metadata": {},
     "output_type": "display_data"
    }
   ],
   "source": [
    "#outliers\n",
    "X_train[['Fare', 'mean_fare', 'median_fare']].boxplot()"
   ]
  },
  {
   "cell_type": "code",
   "execution_count": 42,
   "id": "a1e1def7-6376-4ddf-a138-6aaa2100d93b",
   "metadata": {},
   "outputs": [],
   "source": [
    "#no drastic change seen in fare"
   ]
  },
  {
   "cell_type": "code",
   "execution_count": null,
   "id": "a2c3d7cd-5d16-4e89-921b-7031da960454",
   "metadata": {},
   "outputs": [],
   "source": []
  }
 ],
 "metadata": {
  "kernelspec": {
   "display_name": "Python [conda env:base] *",
   "language": "python",
   "name": "conda-base-py"
  },
  "language_info": {
   "codemirror_mode": {
    "name": "ipython",
    "version": 3
   },
   "file_extension": ".py",
   "mimetype": "text/x-python",
   "name": "python",
   "nbconvert_exporter": "python",
   "pygments_lexer": "ipython3",
   "version": "3.12.7"
  }
 },
 "nbformat": 4,
 "nbformat_minor": 5
}
