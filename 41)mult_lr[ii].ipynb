{
 "cells": [
  {
   "cell_type": "markdown",
   "id": "46c8c8c3-d0dd-4fda-afcc-f3d8ad0f698f",
   "metadata": {},
   "source": [
    "### self multiple linear regression class"
   ]
  },
  {
   "cell_type": "code",
   "execution_count": 8,
   "id": "178dc74f-f5cf-4771-a4cd-ad42ee221c99",
   "metadata": {},
   "outputs": [
    {
     "data": {
      "text/plain": [
       "(309, 10)"
      ]
     },
     "execution_count": 8,
     "metadata": {},
     "output_type": "execute_result"
    }
   ],
   "source": [
    "import numpy as np\n",
    "import pandas as pd\n",
    "from sklearn.datasets import load_diabetes\n",
    "from sklearn.metrics import mean_absolute_error,mean_squared_error,r2_score\n",
    "X,y = load_diabetes(return_X_y=True)\n",
    "from sklearn.model_selection import train_test_split\n",
    "X_train,X_test,y_train,y_test = train_test_split(X,y,test_size=0.3,random_state=3)\n",
    "X_train.shape "
   ]
  },
  {
   "cell_type": "code",
   "execution_count": 39,
   "id": "3e1c582d-6805-4f1a-a39c-71f200809306",
   "metadata": {},
   "outputs": [],
   "source": [
    "class LR:\n",
    "    def __init__(self):\n",
    "        self.coef_=None\n",
    "        self.intercept_=None\n",
    "        \n",
    "    def fit(self,X_train,y_train):\n",
    "        X_train =np.insert(X_train,0,1,axis=1)\n",
    "        betas=np.linalg.inv(np.dot(X_train.T,X_train)).dot(X_train.T).dot(y_train)\n",
    "        self.intercept_=betas[0]\n",
    "        self.coef_=betas[1:]\n",
    "        print(betas)\n",
    "        \n",
    "    def predict(self,X_test):\n",
    "        y_pred=np.dot(X_test,self.coef_)+self.intercept_\n",
    "        return y_pred"
   ]
  },
  {
   "cell_type": "code",
   "execution_count": 40,
   "id": "f1b847e9-5944-4702-b462-62127c132b8c",
   "metadata": {},
   "outputs": [],
   "source": [
    "lr = LR()"
   ]
  },
  {
   "cell_type": "code",
   "execution_count": 41,
   "id": "41597f58-1e3e-4062-9767-3c195c939c43",
   "metadata": {},
   "outputs": [
    {
     "name": "stdout",
     "output_type": "stream",
     "text": [
      "[ 1.53581958e+02 -3.52815107e-01 -2.87155875e+02  5.40993163e+02\n",
      "  3.29302111e+02 -5.38843400e+02  2.12601930e+02  1.04014291e+01\n",
      "  2.35046327e+02  5.98119178e+02  1.00428424e+02]\n"
     ]
    }
   ],
   "source": [
    "lr.fit(X_train,y_train)"
   ]
  },
  {
   "cell_type": "code",
   "execution_count": 42,
   "id": "a8fe2943-b9c2-42f1-9693-a7638a0cba96",
   "metadata": {},
   "outputs": [],
   "source": [
    "y_pred=lr.predict(X_test)"
   ]
  },
  {
   "cell_type": "code",
   "execution_count": 48,
   "id": "31048663-6d81-434c-9d1d-43a69307cae8",
   "metadata": {},
   "outputs": [
    {
     "data": {
      "text/plain": [
       "array([ 53.,  85.,  47.,  84., 174.,  42.,  44., 195., 150., 121., 143.,\n",
       "       175., 219., 248.,  57.,  50.,  59., 166., 167., 134., 141., 118.,\n",
       "       127., 171., 100., 144., 248., 198., 214., 220., 310.,  51., 129.,\n",
       "       111., 151.,  85., 154.,  65.,  66., 131., 302., 275.,  97., 178.,\n",
       "        55.,  71.,  53., 242., 182., 202., 214.,  88., 200., 178., 144.,\n",
       "       230., 200., 303., 281., 197., 210.,  65.,  43., 219., 170.,  31.,\n",
       "        99., 115.,  93., 177.,  52., 183., 156., 184.,  99.,  59., 217.,\n",
       "        77., 102., 103., 275., 276., 122., 273., 132.,  70.,  71., 246.,\n",
       "        77.,  89., 160., 109., 198.,  72., 274., 258., 121., 272., 168.,\n",
       "       128.,  72., 280.,  84., 172., 192., 181., 140., 127.,  67., 232.,\n",
       "       108., 125., 332., 118., 109., 257., 308.,  52., 164., 104.,  79.,\n",
       "        65.,  52., 132., 225.,  92., 101.,  90., 235., 186.,  85., 245.,\n",
       "        87.])"
      ]
     },
     "execution_count": 48,
     "metadata": {},
     "output_type": "execute_result"
    }
   ],
   "source": [
    "y_test"
   ]
  },
  {
   "cell_type": "code",
   "execution_count": 43,
   "id": "42eb4ee4-c2cd-4aa8-a5bf-966d38c21d7c",
   "metadata": {},
   "outputs": [
    {
     "data": {
      "text/plain": [
       "array([ 96.50606657, 184.55943093, 101.09090389, 120.68287233,\n",
       "       179.28755159,  81.46806637, 126.27672777, 235.61776315,\n",
       "       150.24685614, 172.44059563, 174.45772855, 192.98866217,\n",
       "       140.03713888, 225.60269547,  51.19606048, 146.33511266,\n",
       "       122.46853758, 212.80549378, 189.39060187, 149.80297581,\n",
       "       154.18724705, 103.68921523, 165.30800047, 172.85115888,\n",
       "       152.48960579, 181.59420762, 201.34083634, 208.67309934,\n",
       "       134.36267159, 162.95699915, 261.63107336, 121.43229312,\n",
       "       190.47783003, 121.98219986, 166.51730335,  62.24587453,\n",
       "       160.55791266, 102.7734328 , 121.57515741, 161.53417014,\n",
       "       149.98123345, 214.59248519, 122.81475334, 124.56591654,\n",
       "       155.76301015,  86.96821811, 115.7102145 , 258.39746511,\n",
       "       149.12739001, 190.76326585, 146.66185102,  98.61631702,\n",
       "       143.17783219, 188.99455083, 165.06378043, 141.91951462,\n",
       "       114.57022837, 268.22272434, 256.71424152, 147.75611434,\n",
       "       153.82531616, 125.36354886,  67.23449099, 144.14897045,\n",
       "       129.15924017, 102.95201359,  63.60290485,  91.52418583,\n",
       "        91.75578596, 120.05197805, 209.40418359, 116.9787139 ,\n",
       "       157.41603599, 168.96147496, 230.30970816,  69.82796294,\n",
       "       231.72541912,  79.74412596, 106.19607469, 142.90549891,\n",
       "       235.85542558, 158.51572909, 168.55685899, 271.36096311,\n",
       "       123.93398016,  60.28917432, 121.57053631, 155.82552292,\n",
       "       173.97656077,  80.61458794, 119.56585316, 163.03509959,\n",
       "       156.1498884 , 113.09885521, 246.34659238, 298.84313007,\n",
       "       212.29835914, 189.13424808, 150.03604362,  79.22935586,\n",
       "       101.59683108, 238.44757444, 177.12337157, 148.06198331,\n",
       "       221.55769025, 170.6004562 , 181.10094195, 123.29222227,\n",
       "       187.59571274, 186.25851282, 105.10556625, 103.7443209 ,\n",
       "       221.69917489,  99.57529513, 100.69107506, 191.69304973,\n",
       "       264.05171293,  66.34861495, 181.98921056, 163.56986831,\n",
       "       117.80345306,  55.79442753, 181.67998186, 253.75192717,\n",
       "       168.97719055, 117.83717967, 101.05095915, 146.95748966,\n",
       "       167.32454262, 196.13564118, 148.54045219, 161.10402181,\n",
       "        88.01718257])"
      ]
     },
     "execution_count": 43,
     "metadata": {},
     "output_type": "execute_result"
    }
   ],
   "source": [
    "y_pred"
   ]
  },
  {
   "cell_type": "code",
   "execution_count": 44,
   "id": "d8d87ab9-8547-4307-9663-4d8981bf169a",
   "metadata": {},
   "outputs": [
    {
     "name": "stdout",
     "output_type": "stream",
     "text": [
      "MAE 44.04075505084234\n",
      "MSE 3100.3934243323747\n",
      "R2 score 0.4386218733716597\n"
     ]
    }
   ],
   "source": [
    "print(\"MAE\",mean_absolute_error(y_test,y_pred))\n",
    "print(\"MSE\",mean_squared_error(y_test,y_pred))\n",
    "print(\"R2 score\",r2_score(y_test,y_pred))"
   ]
  },
  {
   "cell_type": "code",
   "execution_count": 45,
   "id": "4e665d58-0427-4864-a13a-dc682b93540f",
   "metadata": {},
   "outputs": [
    {
     "data": {
      "text/plain": [
       "array([-3.52815107e-01, -2.87155875e+02,  5.40993163e+02,  3.29302111e+02,\n",
       "       -5.38843400e+02,  2.12601930e+02,  1.04014291e+01,  2.35046327e+02,\n",
       "        5.98119178e+02,  1.00428424e+02])"
      ]
     },
     "execution_count": 45,
     "metadata": {},
     "output_type": "execute_result"
    }
   ],
   "source": [
    "lr.coef_"
   ]
  },
  {
   "cell_type": "code",
   "execution_count": 46,
   "id": "a2eaf499-593e-4b32-b786-a135edf8be9b",
   "metadata": {},
   "outputs": [
    {
     "data": {
      "text/plain": [
       "153.58195762316092"
      ]
     },
     "execution_count": 46,
     "metadata": {},
     "output_type": "execute_result"
    }
   ],
   "source": [
    "lr.intercept_"
   ]
  },
  {
   "cell_type": "code",
   "execution_count": 47,
   "id": "f16a185c-1dae-46cf-964f-6869c9557e9a",
   "metadata": {},
   "outputs": [],
   "source": [
    "# the accuracy results are same as scikit learn's accuracy , but r2 score is not that good"
   ]
  },
  {
   "cell_type": "code",
   "execution_count": null,
   "id": "d8f1c027-0c76-4e1e-b87c-c6ba15e380f0",
   "metadata": {},
   "outputs": [],
   "source": []
  }
 ],
 "metadata": {
  "kernelspec": {
   "display_name": "Python [conda env:base] *",
   "language": "python",
   "name": "conda-base-py"
  },
  "language_info": {
   "codemirror_mode": {
    "name": "ipython",
    "version": 3
   },
   "file_extension": ".py",
   "mimetype": "text/x-python",
   "name": "python",
   "nbconvert_exporter": "python",
   "pygments_lexer": "ipython3",
   "version": "3.12.7"
  }
 },
 "nbformat": 4,
 "nbformat_minor": 5
}
